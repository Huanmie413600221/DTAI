{
 "cells": [
  {
   "cell_type": "code",
   "execution_count": 1,
   "metadata": {},
   "outputs": [
    {
     "name": "stdout",
     "output_type": "stream",
     "text": [
      "0813\n"
     ]
    }
   ],
   "source": [
    "print(\"0813\")"
   ]
  },
  {
   "cell_type": "code",
   "execution_count": 4,
   "metadata": {},
   "outputs": [
    {
     "name": "stdout",
     "output_type": "stream",
     "text": [
      "密碼錯誤!\n"
     ]
    }
   ],
   "source": [
    "密碼=eval(input(\"請輸入密碼\"))\n",
    "if 密碼==1234:\n",
    "    print(\"歡迎光臨!\")\n",
    "else:\n",
    "    print(\"密碼錯誤!\")"
   ]
  },
  {
   "cell_type": "code",
   "execution_count": 5,
   "metadata": {},
   "outputs": [
    {
     "name": "stdout",
     "output_type": "stream",
     "text": [
      "不用帶傘\n"
     ]
    }
   ],
   "source": [
    "rain=str(input(\"今天會下雨嗎?\"))\n",
    "if(rain==\"Y\"or rain==\"y\"):\n",
    "    print(\"出門記得帶傘!\")\n",
    "else:\n",
    "    print(\"不用帶傘\")"
   ]
  },
  {
   "cell_type": "code",
   "execution_count": 8,
   "metadata": {},
   "outputs": [
    {
     "name": "stdout",
     "output_type": "stream",
     "text": [
      "2 為偶數!\n"
     ]
    }
   ],
   "source": [
    "num=int(input(\"請輸入正整數:\"))\n",
    "if(num%2==0):\n",
    "    print(num,\"為偶數!\")\n",
    "else:\n",
    "    print(num,\"為奇數!\")"
   ]
  },
  {
   "cell_type": "code",
   "execution_count": 9,
   "metadata": {},
   "outputs": [
    {
     "name": "stdout",
     "output_type": "stream",
     "text": [
      "體溫異常，請重新量測!\n"
     ]
    }
   ],
   "source": [
    "T=eval(input(\"請輸入體溫\"))\n",
    "if(T>=37.5):\n",
    "    print(\"體溫過高!\")\n",
    "elif(T>=37 and T<=37.4):\n",
    "    print(\"體溫略高!\")\n",
    "elif(T>=34 and T<=36.9):\n",
    "    print(\"體溫正常!\")\n",
    "elif(T<=34):\n",
    "    print(\"體溫異常，請重新量測!\")"
   ]
  },
  {
   "cell_type": "code",
   "execution_count": 10,
   "metadata": {},
   "outputs": [
    {
     "name": "stdout",
     "output_type": "stream",
     "text": [
      "B\n"
     ]
    }
   ],
   "source": [
    "grade=eval(input(\"請輸入成績\"))\n",
    "if(grade>=90):\n",
    "    print(\"A\")\n",
    "elif(grade>=80 and grade<=89):\n",
    "    print(\"B\")\n",
    "elif(grade>=70 and grade<=79):\n",
    "    print(\"c\")\n",
    "elif(grade>=60 and grade<=69):\n",
    "    print(\"D\")\n",
    "elif(grade<60):\n",
    "    print(\"E\")"
   ]
  },
  {
   "cell_type": "code",
   "execution_count": 37,
   "metadata": {},
   "outputs": [
    {
     "name": "stdout",
     "output_type": "stream",
     "text": [
      "月份不在範圍內!\n"
     ]
    }
   ],
   "source": [
    "月=int(input(\"請輸入月份:\"))\n",
    "if(月>=3 and 月<=5):\n",
    "    print(月,\"月是春天!\")\n",
    "elif(月>=6 and 月<=8):\n",
    "    print(月,\"月是夏天!\")\n",
    "elif(月>=9 and 月<=11):\n",
    "    print(月,\"月是秋天!\")\n",
    "elif(月==12 or 月==2 or 月==1):\n",
    "    print(月,\"月是冬天!\")\n",
    "else:\n",
    "    print(\"月份不在範圍內!\")"
   ]
  },
  {
   "cell_type": "code",
   "execution_count": 41,
   "metadata": {},
   "outputs": [
    {
     "name": "stdout",
     "output_type": "stream",
     "text": [
      "付稅金額為: 600000.0 元\n"
     ]
    }
   ],
   "source": [
    "tax=eval(input(\"請輸入今年收入淨額:\"))\n",
    "if(tax>=2000000):\n",
    "    print(\"付稅金額為:\",tax*0.3,\"元\")\n",
    "elif(tax>=1000000 and tax<2000000):\n",
    "    print(\"付稅金額為:\",tax*0.21,\"元\")\n",
    "elif(tax>=600000 and tax<1000000):\n",
    "    print(\"付稅金額為:\",tax*0.13,\"元\")\n",
    "elif(tax>=300000 and tax<600000):\n",
    "    print(\"付稅金額為:\",tax*0.06,\"元\")\n",
    "else:\n",
    "    print((\"付稅金額為: 0 元\"))"
   ]
  },
  {
   "cell_type": "code",
   "execution_count": 43,
   "metadata": {},
   "outputs": [
    {
     "name": "stdout",
     "output_type": "stream",
     "text": [
      "最終價格為: 450.0 元\n"
     ]
    }
   ],
   "source": [
    "total=eval(input())\n",
    "if(total>=1000):\n",
    "    print(\"最終價格為:\",total*0.8,\"元\")\n",
    "elif(total<=1000 and total>=500):\n",
    "    print(\"最終價格為:\",total*0.9,\"元\")\n",
    "else:\n",
    "    print(\"最終價格為:\",total,\"元\")"
   ]
  },
  {
   "cell_type": "code",
   "execution_count": 44,
   "metadata": {},
   "outputs": [
    {
     "name": "stdout",
     "output_type": "stream",
     "text": [
      "需要立即加油!\n"
     ]
    }
   ],
   "source": [
    "fuel=eval(input(\"請輸入油量(公升)\"))\n",
    "if(fuel<5):\n",
    "    print(\"需要立即加油!\")\n",
    "elif(fuel<=10 and fuel>=5):\n",
    "    print(\"油量不足，建議加油\")\n",
    "else:\n",
    "    print(\"油量充足\")"
   ]
  },
  {
   "cell_type": "code",
   "execution_count": 47,
   "metadata": {},
   "outputs": [
    {
     "name": "stdout",
     "output_type": "stream",
     "text": [
      "不收取手續費\n",
      "最終轉帳金額: 30000 元\n"
     ]
    }
   ],
   "source": [
    "amout=eval(input())\n",
    "if(amout>=10000):\n",
    "    print(\"不收取手續費\")\n",
    "    手續費=0\n",
    "elif(amout<10000 and amout>=5000):\n",
    "    print(\"收取 50 元手續費\")\n",
    "    手續費=50\n",
    "elif(amout<5000 and amout>=1000):\n",
    "    print(\"收取 100 元手續費\")\n",
    "    手續費=100\n",
    "else:\n",
    "    print(\"收取 150 元手續費\")\n",
    "    手續費=150\n",
    "print(\"最終轉帳金額:\",amout-手續費,\"元\")"
   ]
  }
 ],
 "metadata": {
  "kernelspec": {
   "display_name": "Python 3",
   "language": "python",
   "name": "python3"
  },
  "language_info": {
   "codemirror_mode": {
    "name": "ipython",
    "version": 3
   },
   "file_extension": ".py",
   "mimetype": "text/x-python",
   "name": "python",
   "nbconvert_exporter": "python",
   "pygments_lexer": "ipython3",
   "version": "3.12.4"
  }
 },
 "nbformat": 4,
 "nbformat_minor": 2
}
