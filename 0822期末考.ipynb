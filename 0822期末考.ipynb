{
 "cells": [
  {
   "cell_type": "code",
   "execution_count": 1,
   "metadata": {},
   "outputs": [
    {
     "name": "stdout",
     "output_type": "stream",
     "text": [
      "2.5\n"
     ]
    }
   ],
   "source": [
    "#1\n",
    "a=float(input())\n",
    "b=float(input())\n",
    "print(a%b)"
   ]
  },
  {
   "cell_type": "code",
   "execution_count": 2,
   "metadata": {},
   "outputs": [
    {
     "name": "stdout",
     "output_type": "stream",
     "text": [
      "1,153,370,371,407,\n"
     ]
    }
   ],
   "source": [
    "#2\n",
    "a,b=map(int,input().split())\n",
    "list1=[]\n",
    "for i in range(a,b+1):\n",
    "    c=str(i)\n",
    "    S= sum(int(digit) ** 3 for digit in c)\n",
    "    if S== i:\n",
    "        list1.append(i)\n",
    "print(\",\".join(map(str, list1)) + \",\")"
   ]
  },
  {
   "cell_type": "code",
   "execution_count": 4,
   "metadata": {},
   "outputs": [
    {
     "name": "stdout",
     "output_type": "stream",
     "text": [
      "t=2.0 b=5.0 h=4.8 area=16.8\n"
     ]
    }
   ],
   "source": [
    "#3\n",
    "t=float(input())\n",
    "b=float(input())\n",
    "h=float(input())\n",
    "area=((t+b)*h)/2\n",
    "print(f't={t} b={b} h={h} area={area}')"
   ]
  },
  {
   "cell_type": "code",
   "execution_count": 5,
   "metadata": {},
   "outputs": [
    {
     "name": "stdout",
     "output_type": "stream",
     "text": [
      "park time:11h:9m\n",
      "pay:300 money\n"
     ]
    }
   ],
   "source": [
    "#4\n",
    "n=int(input())\n",
    "if n <= 0:\n",
    "    fee = 0\n",
    "elif n < 60:\n",
    "    fee = 20\n",
    "else:\n",
    "    fee = 20 + (n // 60) * 40\n",
    "if fee > 300:\n",
    "    fee = 300\n",
    "H=n//60\n",
    "M=n%60\n",
    "print(f\"park time:{H}h:{M}m\")\n",
    "print(f\"pay:{fee} money\")"
   ]
  },
  {
   "cell_type": "code",
   "execution_count": 7,
   "metadata": {},
   "outputs": [
    {
     "name": "stdout",
     "output_type": "stream",
     "text": [
      "[3, 4, 5, 6, 7]\n"
     ]
    }
   ],
   "source": [
    "#5\n",
    "a,b,c=map(int,input().split())\n",
    "print(list(range(a,b,c)))"
   ]
  },
  {
   "cell_type": "code",
   "execution_count": 9,
   "metadata": {},
   "outputs": [
    {
     "name": "stdout",
     "output_type": "stream",
     "text": [
      "2020 is leap year\n"
     ]
    }
   ],
   "source": [
    "#6\n",
    "n=int(input())\n",
    "if (n%4==0 and n%100!=0) or (n%100==0 and n%400==0):\n",
    "    print(f\"{n} is leap year\")\n",
    "else:\n",
    "    print(f\"{n} is common year\")"
   ]
  },
  {
   "cell_type": "code",
   "execution_count": 10,
   "metadata": {},
   "outputs": [
    {
     "name": "stdout",
     "output_type": "stream",
     "text": [
      "102 is error\n"
     ]
    }
   ],
   "source": [
    "#7\n",
    "n=int(input())\n",
    "if n>100:\n",
    "    print(f\"{n} is error\")\n",
    "elif n>=90:\n",
    "    print(f\"{n} is A\")\n",
    "elif n>=80:\n",
    "    print(f\"{n} is B\")\n",
    "elif n>=70:\n",
    "    print(f\"{n} is C\")\n",
    "elif n>=60:\n",
    "    print(f\"{n} is D\")\n",
    "elif n>=0:\n",
    "    print(f\"{n} is E\")\n",
    "else:\n",
    "    print(f\"{n} is error\")"
   ]
  },
  {
   "cell_type": "code",
   "execution_count": 12,
   "metadata": {},
   "outputs": [
    {
     "name": "stdout",
     "output_type": "stream",
     "text": [
      "0,5,10,15,20,25,30,35,40,45,50,55,60,65,70,75,80,85,90,95,"
     ]
    }
   ],
   "source": [
    "#8\n",
    "a,b,c=map(int,input().split())\n",
    "for i in range(a,b,c):\n",
    "    print(i,end=\",\")"
   ]
  },
  {
   "cell_type": "code",
   "execution_count": 15,
   "metadata": {},
   "outputs": [
    {
     "name": "stdout",
     "output_type": "stream",
     "text": [
      "*\n",
      "**\n",
      "***\n"
     ]
    }
   ],
   "source": [
    "#9\n",
    "n=int(input())\n",
    "for i in range(1,n+1):\n",
    "    print(\"*\"*i)"
   ]
  },
  {
   "cell_type": "code",
   "execution_count": null,
   "metadata": {},
   "outputs": [],
   "source": [
    "#10\n",
    "n = int(input())\n",
    "for i in range(n, 10):\n",
    "    for j in range(1, 10):\n",
    "        print(f\"{i}*{j}={i*j}\", end=\" \")\n",
    "    print()"
   ]
  }
 ],
 "metadata": {
  "kernelspec": {
   "display_name": "Python 3",
   "language": "python",
   "name": "python3"
  },
  "language_info": {
   "codemirror_mode": {
    "name": "ipython",
    "version": 3
   },
   "file_extension": ".py",
   "mimetype": "text/x-python",
   "name": "python",
   "nbconvert_exporter": "python",
   "pygments_lexer": "ipython3",
   "version": "3.12.4"
  }
 },
 "nbformat": 4,
 "nbformat_minor": 2
}
