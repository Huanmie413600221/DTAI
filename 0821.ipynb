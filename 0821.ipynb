{
 "cells": [
  {
   "cell_type": "code",
   "execution_count": 9,
   "metadata": {},
   "outputs": [
    {
     "name": "stdout",
     "output_type": "stream",
     "text": [
      "-20\n"
     ]
    }
   ],
   "source": [
    "#5\n",
    "a,b,c=map(eval,input().split())\n",
    "n=a\n",
    "if a>=b and c>=b:\n",
    "    n=b\n",
    "elif b>=c and a>=c:\n",
    "    n=c\n",
    "print(n)"
   ]
  },
  {
   "cell_type": "code",
   "execution_count": null,
   "metadata": {},
   "outputs": [],
   "source": [
    "#8\n",
    "n=int(input())\n",
    "s=0\n",
    "for i in range(1,n+1):\n",
    "    if i%3==0 or i%7==0:\n",
    "        s+=i\n",
    "print(s)"
   ]
  },
  {
   "cell_type": "code",
   "execution_count": 10,
   "metadata": {},
   "outputs": [
    {
     "name": "stdout",
     "output_type": "stream",
     "text": [
      "*\n",
      "**\n",
      "***\n"
     ]
    }
   ],
   "source": [
    "#9\n",
    "n=int(input())\n",
    "for i in range(1,n+1):\n",
    "    print(\"*\"*i)"
   ]
  },
  {
   "cell_type": "code",
   "execution_count": 17,
   "metadata": {},
   "outputs": [
    {
     "name": "stdout",
     "output_type": "stream",
     "text": [
      "1\n",
      "12\n",
      "123\n",
      "1234\n",
      "12345\n",
      "123456\n",
      "1234567\n",
      "12345678\n",
      "123456789\n",
      "12345678910\n"
     ]
    }
   ],
   "source": [
    "#10\n",
    "n=int(input())\n",
    "for i in range(1,n+1):\n",
    "    for j in range(1,i+1):\n",
    "        print(j,end=\"\")\n",
    "    print()"
   ]
  },
  {
   "cell_type": "code",
   "execution_count": null,
   "metadata": {},
   "outputs": [],
   "source": [
    "#14\n",
    "a,b,c=map(int,input().split())\n",
    "if a+b>c and b+c>a and a+c>b:\n",
    "    print(\"Valid\")\n",
    "else:\n",
    "    print(\"Invalid\")"
   ]
  },
  {
   "cell_type": "code",
   "execution_count": null,
   "metadata": {},
   "outputs": [],
   "source": [
    "#18\n",
    "y = int(input())\n",
    "\n",
    "if (y % 4 == 0 and y % 100 != 0) or (y % 400 == 0):\n",
    "    print(f\"{y} is leap year\")\n",
    "else:\n",
    "    print(f\"{y} is common year\")"
   ]
  },
  {
   "cell_type": "code",
   "execution_count": 32,
   "metadata": {},
   "outputs": [
    {
     "name": "stdout",
     "output_type": "stream",
     "text": [
      "5*1=5 5*2=10 5*3=15 5*4=20 5*5=25 5*6=30 5*7=35 5*8=40 5*9=45 \n",
      "6*1=6 6*2=12 6*3=18 6*4=24 6*5=30 6*6=36 6*7=42 6*8=48 6*9=54 \n",
      "7*1=7 7*2=14 7*3=21 7*4=28 7*5=35 7*6=42 7*7=49 7*8=56 7*9=63 \n",
      "8*1=8 8*2=16 8*3=24 8*4=32 8*5=40 8*6=48 8*7=56 8*8=64 8*9=72 \n",
      "9*1=9 9*2=18 9*3=27 9*4=36 9*5=45 9*6=54 9*7=63 9*8=72 9*9=81 \n"
     ]
    }
   ],
   "source": [
    "#19\n",
    "n = int(input())\n",
    "for i in range(n, 10):\n",
    "    for j in range(1, 10):\n",
    "        print(f\"{i}*{j}={i*j}\", end=\" \")\n",
    "    print()"
   ]
  },
  {
   "cell_type": "code",
   "execution_count": null,
   "metadata": {},
   "outputs": [],
   "source": [
    "#21\n",
    "n=str(input())\n",
    "print(f\"Ans {n}\")"
   ]
  },
  {
   "cell_type": "code",
   "execution_count": 23,
   "metadata": {},
   "outputs": [
    {
     "name": "stdout",
     "output_type": "stream",
     "text": [
      "19\n"
     ]
    }
   ],
   "source": [
    "#22\n",
    "n=map(int,input().split())\n",
    "print(sum(n))"
   ]
  },
  {
   "cell_type": "code",
   "execution_count": null,
   "metadata": {},
   "outputs": [],
   "source": [
    "#23\n",
    "n=str(input())\n",
    "print(len(n))"
   ]
  },
  {
   "cell_type": "code",
   "execution_count": null,
   "metadata": {},
   "outputs": [],
   "source": [
    "#26\n",
    "n = int(input())\n",
    "if n > 100:\n",
    "    print(f\"{n} is error\")\n",
    "elif n >= 90:\n",
    "    print(f\"{n} is A\")\n",
    "elif n >= 80:\n",
    "    print(f\"{n} is B\")\n",
    "elif n >= 70:\n",
    "    print(f\"{n} is C\")\n",
    "elif n >= 60:\n",
    "    print(f\"{n} is D\")\n",
    "elif n >= 0:\n",
    "    print(f\"{n} is E\")\n",
    "else:\n",
    "    print(f\"{n} is error\")"
   ]
  },
  {
   "cell_type": "code",
   "execution_count": 29,
   "metadata": {},
   "outputs": [
    {
     "name": "stdout",
     "output_type": "stream",
     "text": [
      "85% discount is 85000.0\n"
     ]
    }
   ],
   "source": [
    "#29\n",
    "n=int(input())\n",
    "p=1\n",
    "if n>=100000:\n",
    "    p=0.8\n",
    "    print(f\"80% discount is {round(n*p,2)}\")\n",
    "elif n>=50000:\n",
    "    p=0.85\n",
    "    print(f\"85% discount is {round(n*p,2)}\")\n",
    "elif n>=30000:\n",
    "    p=0.9\n",
    "    print(f\"90% discount is {round(n*p,2)}\")\n",
    "elif n>=10000:\n",
    "    p=0.95\n",
    "    print(f\"95% discount is {round(n*p,2)}\")\n",
    "else:\n",
    "    print(f\"no discount is {n}\")"
   ]
  },
  {
   "cell_type": "code",
   "execution_count": null,
   "metadata": {},
   "outputs": [],
   "source": [
    "#30\n",
    "a,b,c =map(int,input().split())\n",
    "p = \",\".join(str(i) for i in range(a, b, c))\n",
    "print(p+\",\")"
   ]
  },
  {
   "cell_type": "code",
   "execution_count": null,
   "metadata": {},
   "outputs": [],
   "source": [
    "#32\n",
    "a,b,c =map(int,input().split())\n",
    "print(list(range(a, b, c)))"
   ]
  },
  {
   "cell_type": "code",
   "execution_count": null,
   "metadata": {},
   "outputs": [],
   "source": [
    "#33\n",
    "a,b,c =map(int,input().split())\n",
    "if a==b or b==c or a==c:\n",
    "    print(\"Valid\")\n",
    "else:\n",
    "    print(\"Invalid\")"
   ]
  },
  {
   "cell_type": "code",
   "execution_count": null,
   "metadata": {},
   "outputs": [],
   "source": [
    "#34\n",
    "n=int(input())\n",
    "if n <= 0:\n",
    "    fee = 0\n",
    "elif n < 60:\n",
    "    fee = 20\n",
    "else:\n",
    "    fee = 20 + (n // 60) * 40\n",
    "if fee > 300:\n",
    "    fee = 300\n",
    "H=n//60\n",
    "M=n%60\n",
    "print(f\"park time:{H}h:{M}m\")\n",
    "print(f\"pay:{fee} money\")"
   ]
  },
  {
   "cell_type": "code",
   "execution_count": 30,
   "metadata": {},
   "outputs": [
    {
     "name": "stdout",
     "output_type": "stream",
     "text": [
      "1,153,370,371,407,\n"
     ]
    }
   ],
   "source": [
    "#35\n",
    "a,b=map(int,input().split())\n",
    "list1=[]\n",
    "for i in range(a,b+1):\n",
    "    c=str(i)\n",
    "    S= sum(int(digit) ** 3 for digit in c)\n",
    "    if S== i:\n",
    "        list1.append(i)\n",
    "print(\",\".join(map(str, list1)) + \",\")"
   ]
  },
  {
   "cell_type": "code",
   "execution_count": null,
   "metadata": {},
   "outputs": [],
   "source": [
    "#40\n",
    "t=float(input())\n",
    "b=float(input())\n",
    "h=float(input())\n",
    "area=((t+b)*h)/2\n",
    "print(f't={t} b={b} h={h} area={area}')"
   ]
  },
  {
   "cell_type": "code",
   "execution_count": null,
   "metadata": {},
   "outputs": [],
   "source": [
    "#41\n",
    "a=float(input())\n",
    "b=float(input())\n",
    "print(a%b)"
   ]
  },
  {
   "cell_type": "code",
   "execution_count": null,
   "metadata": {},
   "outputs": [],
   "source": [
    "#43\n",
    "a=float(input())\n",
    "b=float(input())\n",
    "print(a/b)"
   ]
  }
 ],
 "metadata": {
  "kernelspec": {
   "display_name": "Python 3",
   "language": "python",
   "name": "python3"
  },
  "language_info": {
   "codemirror_mode": {
    "name": "ipython",
    "version": 3
   },
   "file_extension": ".py",
   "mimetype": "text/x-python",
   "name": "python",
   "nbconvert_exporter": "python",
   "pygments_lexer": "ipython3",
   "version": "3.12.4"
  }
 },
 "nbformat": 4,
 "nbformat_minor": 2
}
